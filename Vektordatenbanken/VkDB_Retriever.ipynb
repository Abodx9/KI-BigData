{
 "cells": [
  {
   "cell_type": "markdown",
   "metadata": {},
   "source": [
    "## <span style=\"color: Yellow;\">**Retrieve Data from Vektordatenbanken**</span>"
   ]
  },
  {
   "cell_type": "markdown",
   "metadata": {},
   "source": [
    "### **ChromaDB vs FAISS**\n",
    "\n",
    "| **Feature**                 | **FAISS**                    | **ChromaDB**                  |\n",
    "|------------------------------|------------------------------|-------------------------------|\n",
    "| **Storage**                 | Requires separate metadata   | Integrated metadata           |\n",
    "| **Flexibility**             | Static after creation        | Dynamic, supports updates     |\n",
    "| **Ease of Use**             | More complex setup           | Simpler API                   |\n",
    "| **Performance**             | Highly optimized             | Good for medium datasets      |\n",
    "| **Offline Support**         | Yes                          | Yes                           |\n",
    "\n",
    "**So in the end, we have decided to use ChromaDB**\n"
   ]
  },
  {
   "cell_type": "markdown",
   "metadata": {},
   "source": [
    "### **Embeddings models**\n",
    "\n",
    "\n",
    "| **Model**               | **Dimensionality** | **Quality**          | **Offline** | **Use Cases**                                | **Speed**      |\n",
    "|--------------------------|--------------------|----------------------|-------------|---------------------------------------------|----------------|\n",
    "| **text-embedding-ada-002** | 1536               | Best-in-class        | No          | Complex queries, large-scale semantic tasks | Moderate (API) |\n",
    "| **All-MiniLM-L6-v2**     | 384                | Good                 | Yes         | Lightweight tasks, semantic search          | Fast           |\n",
    "| **Instructor-XL**        | 768                | Very Good            | Yes         | Knowledge bases, task-specific embeddings   | Moderate       |\n",
    "| **MPNet**                | 768                | Very Good            | Yes         | Context-aware embeddings, multilingual      | Moderate       |\n",
    "| <span style=\"color: green;\">**GTR-T5 (Large)**</span>       | 1024               | Excellent            | Yes         | Cross-domain, large-scale retrieval         | Slower         |\n",
    "| **Sentence-BERT**        | 768                | Very Good            | Yes         | Sentence similarity, classification         | Moderate       |\n",
    "\n",
    "**we decided to use the free and best option which is GTR-T5 (Large)**"
   ]
  },
  {
   "cell_type": "markdown",
   "metadata": {},
   "source": [
    "## **Try 😎**"
   ]
  },
  {
   "cell_type": "code",
   "execution_count": 4,
   "metadata": {},
   "outputs": [],
   "source": [
    "from transformers import AutoTokenizer, AutoModel\n",
    "from sentence_transformers import SentenceTransformer\n",
    "import chromadb\n",
    "\n",
    "\n",
    "db_path=\"./vektor_DB\"\n",
    "client = chromadb.PersistentClient(path=db_path)\n",
    "\n",
    "embedding_model = SentenceTransformer(\"sentence-transformers/gtr-t5-large\")\n",
    "\n",
    "collection = client.get_collection(\"meinungen\")"
   ]
  },
  {
   "cell_type": "markdown",
   "metadata": {},
   "source": [
    "### Function to retrieve the data"
   ]
  },
  {
   "cell_type": "code",
   "execution_count": 7,
   "metadata": {},
   "outputs": [],
   "source": [
    "def query_collection(query_text, n_results=6):\n",
    "\n",
    "    query_embedding = embedding_model.encode(query_text)\n",
    "    results = collection.query(\n",
    "        query_embeddings=[query_embedding],\n",
    "        n_results=n_results,\n",
    "        include=[\"documents\", \"metadatas\", \"distances\"]\n",
    "    )\n",
    "    return results"
   ]
  },
  {
   "cell_type": "markdown",
   "metadata": {},
   "source": [
    "### Start"
   ]
  },
  {
   "cell_type": "code",
   "execution_count": 8,
   "metadata": {},
   "outputs": [
    {
     "name": "stdout",
     "output_type": "stream",
     "text": [
      "Query: Cybersicherheit\n",
      "\n",
      "Result 1:\n",
      "  Document: das Bundesamt für Sicherheit in der Informationstechnik, zu stärken und aufzurüsten. Wir Freie Demokraten wollen die Cybersicherheit stärken. Denn Cybersicherheit ist die Achillesferse des Informations- zeitalters. Deshalb brauchen wir eine tatsächlich umsetzbare und agile Cybersicherheitsstrategie. Bestandteile davon müssen ein wirksames Schwachstellenmanagement und ein Recht auf Verschlüsselung sein. Dazu gehören ebenfalls die Vorgabe von security-by-design inklusive Haftung der Her- stellerinnen und Hersteller für Schäden, die fahrlässig durch IT-Sicherheitslücken verursacht werden, und eine Verpflichtung der Herstellerinnen und Hersteller, während der üblichen Nutzungsdauer eines Produkts Updates zur Verfügung zu stellen. Effiziente Schutz- und Verteidigungssysteme müssen in der Cybersicherheit stets Vorrang haben. Deshalb sollen Unternehmen, die umfangreichen Einflussmöglichkeiten autori- tärer Regime unterliegen, beim Ausbau kritischer Infrastruktur wie dem 5G-Netz nicht beteiligt werden. Wir lehnen digitale Vergeltungsschläge (Hackbacks) ab, da sie die Gefahr eines digitalen Wettrüstens bergen und nicht die Täterinnen und Täter, sondern zivile Opfer treffen. Für mehr Cybersicherheit als strategisches Sicherheitsziel der Bundesrepublik Deutsch- land sind die entsprechenden Strukturen des Bundes, wie\n",
      "  Party: FDP\n",
      "  Theme: Cybersicherheit stärken\n",
      "  Chunk Index: 0\n",
      "  Distance: 0.37388938665390015\n",
      "\n",
      "Result 2:\n",
      "  Document: Auf dynamische Entwicklungen im Cyberraum reagieren Unsere Grundversorgung mit Wasser, Strom und Telekommunikation und viele andere hochsensible Prozesse laufen über vernetzte IT-Systeme, die fortlaufend attackiert werden. Die Angriffsmethoden werden immer ausgefeilter. Daher brauchen wir widerstandsfähige IT-Infrastrukturen und -Netze. Für uns gilt: Was in der analogen Welt verboten ist, muss auch in der digitalen Welt verboten sein. Cybersicherheit ist nicht statisch. Ein Schutzniveau heute ist kein Garant für eine erfolgreiche Abwehr der Angriffe von morgen. Wir werden daher fortwährend beurteilen, was notwendig ist, um angemessen auf die dynamischen Entwicklungen im Cyberraum zu reagieren. In letzter Konsequenz heißt das auch: Wir müssen bei schweren Cyber-Angriffen in der Lage sein, aktiv auf die Ursache einzuwirken, um sie zu beenden. Wir werden die dafür erforderlichen rechtlichen Regelungen und eigene technischen Fähigkeiten für ange messene aktive Maßnahmen schaffen. Informationssicherheit und Cyber-Abwehr stärken Eine enge und vertrauensvolle Zusammenarbeit zwischen Bund und Ländern ist unabding bare Voraussetzung, um den Herausforderungen auch bei der Cybersicherheit wirkungsvoll begegnen zu können. Um die Zusammenarbeit zwischen Bund und Ländern weiter zu vertiefen, werden wir das Bundesamt für Sicherheit in der Informationstechnik zu einer Zentralstelle für Fra gen der Informations- und Cybersicherheit ausbauen. Es soll neben dem Bundesamt für Verfassungsschutz und dem Bundeskriminalamt eine starke dritte Säule der Cyber-Si cherheitsarchitektur bilden. Das Nationale Cyber-Abwehrzentrum wollen wir so weiterentwickeln, dass es in komple xen Schadenslagen bundesweit eine Abwehr von Gefahren und Angriffen koordinieren kann. Wir müssen bei IT-Beschaffungsvorhaben mehr Geld in den Schutz gegen Cyber-Angriffe investieren. Wir schlagen daher vor, künftig einen bestimmten Anteil der Sachmittel für IT-Vorhaben des Bundes für Informationssicherheit aufzuwenden („Cyber-Quote“), um eine sichere Digitalisierung zu gewährleisten. Cyber-Sicherheitsforschung vorantreiben Die Cyber-Sicherheitsforschung in Deutschland wollen wir stark vorantreiben. Cyber-Si cherheit „Made in Germany“ muss ein Markenzeichen bleiben. Wir wollen, dass Deutschland Weltmarktführer für sichere IT-Lösungen und attraktiver Standort für innovative Unternehmen der Cybersicherheit wird. Dazu gehören führende Verschlüsselungstechnik und Security-by-design-Lösungen, damit Hackerangriffe un möglich werden, sowie diskriminierungsfreie Algorithmen. Nur so können wir das Ziel der Digitalen Souveränität erreichen. Wir wollen eine transparente Zertifizierung von IT-Produkten, der die Menschen ver trauen können. Dazu wollen wir das Bundesamt für Sicherheit in der Informationstechnik so ausstatten, dass es als zentrale Zertifizierungs- und Standardisierungsstelle im inter nationalen Wettbewerb bestehen kann. Wirtschaft besser vor Cyber-Angriffen schützen Wir werden Strukturen schaffen, die es der Wirtschaft ermöglichen, ihre Schutzmaßnahmen gegen Cyber-Attacken zu erhöhen. Dies gilt insbesondere für kleine und mittlere Unterneh men, vom Handwerk bis zu Hidden Champions. Gerade diese Unternehmen sind heute noch unzureichend sensibilisiert und geschützt, obgleich sie wegen ihrer Innovations- und Wirt schaftskraft begehrte Angriffsziele internationaler Konkurrenten, fremder Nachrichten dienste und Krimineller sind. Die wirtschaftlichen Schäden, die dadurch entstehen, sind im mens – bis hin zur Insolvenz und damit einhergehend dem Verlust vieler Arbeitsplätze. Zur besseren Beratung und Unterstützung dieser Unternehmen wollen wir die Rolle des Bundesamtes für Sicherheit in der Informationstechnik weiter ausbauen. Um kleine und mittlere Unternehmen bei der Stärkung ihrer IT-Sicherheit noch wirksa mer zu unterstützen, wollen wir weitere steuerliche Anreize prüfen, wie beispielsweise schnellere Abschreibungsmöglichkeiten von Investitionen in IT-Sicherheit. Anträge für Förderprogramme zur Sensibilisierung und Unterstützung wollen wir weiter vereinfachen und Antragsverfahren beschleunigen.\n",
      "  Party: CDU CSU\n",
      "  Theme: Gefahrenabwehr im Cyberraum\n",
      "  Chunk Index: 0\n",
      "  Distance: 0.3860248327255249\n",
      "\n",
      "Result 3:\n",
      "  Document: Der Kampf um Cybersicherheit gewinnt immer mehr an Bedeutung. Doch fehlen unseren Sicherheitsbehörden die Ressourcen für eine schlagkräftige Antwort auf die Bedrohung. Wir wollen deshalb schnellstmöglich eine überzeugende Gesamtstrategie, die alle Strafverfolgungsbehörden einbindet und die Zusammenarbeit zwi- schen Behörden und Unternehmen als Opfer von Cyberattacken intensiviert. Insbesondere braucht es hierfür mehr Spezialist*innen und große Investitionen in die technische Ausstattung, um angemessen reagieren zu können.\n",
      "  Party: FreieWahler\n",
      "  Theme: Aufrüsten gegen Cyberkriminalität\n",
      "  Chunk Index: 0\n",
      "  Distance: 0.45611023902893066\n",
      "\n",
      "Result 4:\n",
      "  Document: Wir Freie Demokraten wollen den Schutz der Menschenrech- te im digitalen Zeitalter stärken. Hierfür wollen wir die Inter- netfreiheit und digitalen Menschenrechte zu neuen außen- politischen Schwerpunkten machen. Denn die Digitalisierung birgt sowohl neue Chancen für den Schutz der Menschen- rechte als auch neue Herausforderungen. Beim Ausbau des Menschenrechtsschutzes im digitalen Zeitalter muss Deutsch- land im Zuge einer effektiven Cybersicherheitsstrategie in Europa und international eine Führungsrolle einnehmen – insbesondere beim Recht auf Privatsphäre, Anonymität im Internet und Verschlüsselung sowie beim Schutz personen- bezogener Daten und vor Massenüberwachung. Zum Schutz der Privatsphäre gehört auch, dass zur Straf- und Zivilrechts- verfolgung von Persönlichkeitsrechtsverletzungen Anonymität aufgehoben werden kann.\n",
      "  Party: FDP\n",
      "  Theme: Menschenrechte im digitalen Zeitalter schützen\n",
      "  Chunk Index: 0\n",
      "  Distance: 0.46352787833414305\n",
      "\n",
      "Result 5:\n",
      "  Document: Digitalisierung und neue Technologien bieten viele neue Möglichkeiten, schaffen aber auch Risiken für offene, demokratische Gesellschaften und werfen in bestimmten Bereichen schwerwiegende ethische, politische und rechtliche Fragen auf. Sie verändern Möglichkeiten staatlicher und nichtstaatlicher Einflussnahme auf individuelle Freiheiten und gesellschaftliche Diskurse, demokratische Abstimmungsprozesse sowie die moderne Kriegsführung. Der Staat ist in der Pflicht, die Bevölkerung effektiv vor solchen Angriffen zu schützen. Für Früherkennung, Analyse und das gemeinsame Vorgehen staatlicher Stellen braucht es ressortübergreifende Strategien zur Bekämpfung hybrider Bedrohungen, klare rechtliche Vorgaben und eine starke parlamentarische Kontrolle für das Handeln der Bundeswehr im Cyberraum. Die Bundeswehr braucht ein an Schutz und Defensive orientiertes Selbstverständnis im digitalen Raum. Gleichzeitig müssen alle staatlichen Institutionen kontinuierlich ihre Resilienz stärken und gerade Betreiber*innen kritischer Infrastrukturen hierbei unterstützt werden. Wir setzen uns für neue internationale Übereinkünfte ein, um die Rüstungskontrolle digitaler Güter und das Völkerrecht zu stärken. Die Gültigkeit der VN-Charta muss ausgedehnt und das humanitäre Völkerrecht auch im Cyberraum angewendet werden. Hierfür muss auch die europäische Zusammenarbeit ausgebaut werden, wozu Deutschland einen entsprechenden Beitrag leisten muss.\n",
      "  Party: Grünen\n",
      "  Theme: Sicherheit im Cyber- und Informationsraum schaffen\n",
      "  Chunk Index: 0\n",
      "  Distance: 0.46505868434906006\n",
      "\n",
      "Result 6:\n",
      "  Document: Unser Unionsversprechen: Wir wollen, dass die Menschen in unserem Land auf ein Leben in Si cherheit und Freiheit vertrauen können: ob zu Hause, unterwegs auf Straßen oder Plätzen, in Bussen oder Bahnen, bei Tag oder Nacht, analog oder digital. Sie erwarten zu Recht einen star ken Staat, der sie schützt. Dafür werden wir weiterhin gemeinsam arbeiten. Wir stehen dabei fest an der derjenigen, die täglich alle Anstrengungen unternehmen, um Sicherheit in Freiheit zu verteidigen. Ganz gleich ob Polizisten oder Rettungskräfte, Mitarbeiter der Ordnungsämter, Richter oder Staatsanwälte – sie alle genießen ein besonders großes Ver trauen. Ihrem Einsatz gebühren unser Respekt und unsere Unterstützung. Dank dieses Einsatzes können wir in Deutschland sicherer leben als in den meisten anderen Län dern der Welt. Doch Sicherheit und Freiheit werden jeden Tag aufs Neue herausgefordert: von Einbrechern, kriminellen Clans, gewaltbereiten Extremisten, internationalen Terroristen oder Angriffen im Cyberraum. Deshalb wollen wir die Wehrhaftigkeit unseres Rechtsstaates weiter stärken. Im Modernisierungsjahrzehnt der 20er Jahre setzen wir dabei auf ein Update aller Si cherheitsbehörden mit einem Dreiklang aus mehr Personal, besserer Ausstattung sowie zeitge mäßer Kompetenzen und Befugnisse. Für uns ist klar: Im Sinne der Subsidiarität und Bürgernähe sind die Länder zu Recht für die Polizei verantwortlich. Krisen und Katastrophen nehmen jedoch keine Rücksicht auf Grenzen von Regionen, Bundesländern oder Staaten. So wenig sich Straftäter durch Grenzen abhalten lassen, so wenig dürfen Grenzen eine wirksame Arbeit der Sicherheitsbehörden behindern. Die Möglichkeiten zu einer verstärkten Zusammenarbeit von Bund und Ländern müssen daher voll genutzt werden. Dort, wo Bund und Länder in Angelegenheiten der Sicherheit des Bundes zu sammenarbeiten, braucht es bei komplexen Struktur- und Ermittlungsverfahren auch eine stär kere Koordinierung – etwa im Kampf gegen die Feinde unserer Verfassung, gegen Terroristen, in der Abwehr von Gefahren aus dem Cyberraum oder bei bundesweiten, auch digitalen, Kata strophenfällen.\n",
      "  Party: CDU CSU\n",
      "  Theme: Neue Stärke für mehr Sicherheit – aus Verantwortung für unsere Freiheit\n",
      "  Chunk Index: 0\n",
      "  Distance: 0.4669082760810852\n"
     ]
    }
   ],
   "source": [
    "query = \"Cybersicherheit\"\n",
    "results = query_collection(query)\n",
    "\n",
    "print(f\"Query: {query}\")\n",
    "for i in range(len(results[\"documents\"][0])):\n",
    "    print(f\"\\nResult {i+1}:\")\n",
    "    print(f\"  Document: {results['documents'][0][i]}\")\n",
    "    print(f\"  Party: {results['metadatas'][0][i]['party']}\")\n",
    "    print(f\"  Theme: {results['metadatas'][0][i]['theme']}\")\n",
    "    print(f\"  Chunk Index: {results['metadatas'][0][i]['chunk_index']}\")\n",
    "    print(f\"  Distance: {results['distances'][0][i]}\")"
   ]
  }
 ],
 "metadata": {
  "kernelspec": {
   "display_name": "tst",
   "language": "python",
   "name": "python3"
  },
  "language_info": {
   "codemirror_mode": {
    "name": "ipython",
    "version": 3
   },
   "file_extension": ".py",
   "mimetype": "text/x-python",
   "name": "python",
   "nbconvert_exporter": "python",
   "pygments_lexer": "ipython3",
   "version": "3.11.9"
  }
 },
 "nbformat": 4,
 "nbformat_minor": 2
}

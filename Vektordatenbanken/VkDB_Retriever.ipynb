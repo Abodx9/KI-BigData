{
 "cells": [
  {
   "cell_type": "markdown",
   "metadata": {},
   "source": [
    "## <span style=\"color: Yellow;\">**Retrieve Data from Vektordatenbanken**</span>"
   ]
  },
  {
   "cell_type": "markdown",
   "metadata": {},
   "source": [
    "### **ChromaDB vs FAISS**\n",
    "\n",
    "| **Feature**                 | **FAISS**                    | **ChromaDB**                  |\n",
    "|------------------------------|------------------------------|-------------------------------|\n",
    "| **Storage**                 | Requires separate metadata   | Integrated metadata           |\n",
    "| **Flexibility**             | Static after creation        | Dynamic, supports updates     |\n",
    "| **Ease of Use**             | More complex setup           | Simpler API                   |\n",
    "| **Performance**             | Highly optimized             | Good for medium datasets      |\n",
    "| **Offline Support**         | Yes                          | Yes                           |\n",
    "\n",
    "**So in the end, we have decided to use ChromaDB**\n"
   ]
  },
  {
   "cell_type": "markdown",
   "metadata": {},
   "source": [
    "### **Embeddings models**\n",
    "\n",
    "\n",
    "| **Model**               | **Dimensionality** | **Quality**          | **Offline** | **Use Cases**                                | **Speed**      |\n",
    "|--------------------------|--------------------|----------------------|-------------|---------------------------------------------|----------------|\n",
    "| **text-embedding-ada-002** | 1536               | Best-in-class        | No          | Complex queries, large-scale semantic tasks | Moderate (API) |\n",
    "| **All-MiniLM-L6-v2**     | 384                | Good                 | Yes         | Lightweight tasks, semantic search          | Fast           |\n",
    "| **Instructor-XL**        | 768                | Very Good            | Yes         | Knowledge bases, task-specific embeddings   | Moderate       |\n",
    "| **MPNet**                | 768                | Very Good            | Yes         | Context-aware embeddings, multilingual      | Moderate       |\n",
    "| <span style=\"color: green;\">**GTR-T5 (Large)**</span>       | 1024               | Excellent            | Yes         | Cross-domain, large-scale retrieval         | Slower         |\n",
    "| **Sentence-BERT**        | 768                | Very Good            | Yes         | Sentence similarity, classification         | Moderate       |\n",
    "\n",
    "**we decided to use the free and best option which is GTR-T5 (Large)**"
   ]
  },
  {
   "cell_type": "markdown",
   "metadata": {},
   "source": [
    "## **Try 😎**"
   ]
  },
  {
   "cell_type": "code",
   "execution_count": 2,
   "metadata": {},
   "outputs": [],
   "source": [
    "from transformers import AutoTokenizer, AutoModel\n",
    "from sentence_transformers import SentenceTransformer\n",
    "import chromadb\n",
    "\n",
    "\n",
    "db_path=\"./vektor_DB\"\n",
    "client = chromadb.PersistentClient(path=db_path)\n",
    "\n",
    "embedding_model = SentenceTransformer(\"sentence-transformers/gtr-t5-large\")\n",
    "\n",
    "collection = client.get_collection(\"meinungen\")"
   ]
  },
  {
   "cell_type": "markdown",
   "metadata": {},
   "source": [
    "### Function to retrieve the data"
   ]
  },
  {
   "cell_type": "code",
   "execution_count": 11,
   "metadata": {},
   "outputs": [],
   "source": [
    "def query_collection(query_text, n_results=4):\n",
    "\n",
    "    query_embedding = embedding_model.encode(query_text)\n",
    "    results = collection.query(\n",
    "        query_embeddings=[query_embedding],\n",
    "        n_results=n_results,\n",
    "        include=[\"documents\", \"metadatas\", \"distances\"]\n",
    "    )\n",
    "    return results"
   ]
  },
  {
   "cell_type": "markdown",
   "metadata": {},
   "source": [
    "### Start"
   ]
  },
  {
   "cell_type": "code",
   "execution_count": 10,
   "metadata": {},
   "outputs": [
    {
     "name": "stdout",
     "output_type": "stream",
     "text": [
      "Query: Was denkt AFD über Cybersicherheit?\n",
      "\n",
      "Result 1:\n",
      "  Document: In der Digitalisierung von Wirtschaft und Gesellschaft sehen wir eine Chance für die Verbesserung des Lebens aller Bürger. Als freiheitliche und demokratische Partei wendet sich die AfD jedoch gegen jeglichen Missbrauch digitaler Techniken, die zur Überwachung oder Bevormundung von Bürgern und Unternehmen führen. Wir fordern auch hier die Einhaltung des Grundgesetzes und aller rechtsstaatlichen Prinzipien bei der Erstellung und Nutzung von digitalen Diensten. Grundrechte und Meinungsfreiheit gelten auch im Internet. Im Einzelnen verlangen wir: Verzicht auf Anwendung von Digitalisierung, die totalitäre Strukturen befördert. Abschaffung des NetzDG. Verhinderung von Upload-Filtern, denn sie beschneiden die Meinungsfreiheit und führen zu Zensur. Defizite im EU-Urheberrecht sind entsprechend zu korrigieren. Die AfD steht für ein freies und offenes Internet. Einhaltung rechtsstaatlicher Prinzipien auch im digitalen Bereich (Internet, soziale Medien und Plattformen). Verpflichtung der Anbieter von sozialen Plattformen, einen diskriminierungsfreien Zugang zu ermöglichen und inhaltliche Neutralität zu wahren. Entscheidungen über die Rechtmäßigkeit von Inhalten auf Plattformen sollen regelmäßig nicht mehr beim Betreiber liegen. Die Justiz allein hat die Befugnis und die Fähigkeiten, über die Zulässigkeit von Inhalten zu entscheiden. Eine zentrale Meldestelle, an die sich von Rechtsverletzungen auf Plattformen betroffene Bürger und Einrichtungen wenden können. Auf Länderebene soll es Schwerpunkt-Justizzentren für die Rechtsdurchsetzung im Netz geben.\n",
      "  Party: AFD\n",
      "  Theme: Digitalisierung muss uns Menschen dienen\n",
      "  Chunk Index: 0\n",
      "  Distance: 0.38181567192077637\n",
      "\n",
      "Result 2:\n",
      "  Document: Wir stehen für Datenschutz und Datensicherheit ohne ausufernde Bürokratie: Die AfD fordert die Abschaffung der DSGVO und seine Ersetzung durch ein neues, schlankes Daten schutzgesetz zur Wahrung informationeller Selbstbestimmung. Einwilligungen zur Datenverarbeitung müssen jederzeit und wirksam widerrufbar sein. Datenschutzbehörden will die AfD in ihrer Rolle bestärken und auch gegenüber staatlichen Stellen sanktionsfähig machen, da der Staat dieselben Datenschutzregeln wie der Bürger einzuhalten hat. Die Ende-zu-Ende-Verschlüsselung in der elektronischen Kommunikation sowie Datenschutz durch Technikgestaltung und Voreinstellungen („by design“ und „by default“) müssen gesetzlich als Standard verankert werden. Öffentliche Ausgaben für die Erforschung und Anwendung von Quanten-Kryptographie müssen aus Gründen der nationalen Sicherheit, der Vermeidung von Wirtschaftsspionage und für die IT-Sicherheit der Bürger umgehend und deutlich aufgestockt werden. Ein zentrales, bereichsübergreifendes Personen kennzeichen bei der Modernisierung der Verwaltungsregister von Bund und Ländern lehnen wir ab, da es die Erstellung von Persönlichkeitsprofilen zulässt und damit verfassungswidrig ist. Die zahlreichen IT-Sicherheitsgesetze und -strategien in Deutschland müssen umgehend aktualisiert und konsolidiert werden, da die hohe Komplexität ihres Zusammenwirkens IT-Sicherheit eher gefährdet, statt die zu fördern. Behörden dürfen keine Software-Hintertüren nutzen, Sicherheitslücken sind sofort zu melden und konsequent zu schließen. Auch kommunale kritische Infrastrukturen und Einrichtungen müssen besser vor Hacker-Angriffen geschützt werden. Wir wollen einen einheitlichen Rechtsrahmen zur Standardisierung und Zertifizierung von IT-Infrastrukturen, -Produkten, -Dienstleistungen und -Systemen. Das Bundesamt für Sicherheit in der Informations technik (BSI) soll zu einer Behörde des digitalen Verbraucherschutzes ausgebaut werden. Behörden der polizeilichen und nichtpolizeilichen Gefahrenabwehr müssen unverzüglich auf den Stand der digitalen Technik gebracht und ihre Verfahrensweisen entsprechend angepasst werden. Instrumente an der Schnittstelle zum Bürger, wie z. B. die NINAWarn-App, müssen nicht nur mit den notwendigen finanziellen Ressourcen ausgestattet, sondern auch anwenderfreundlich ausgestaltet werden.\n",
      "  Party: AFD\n",
      "  Theme: Datenschutz und Datensicherheit\n",
      "  Chunk Index: 0\n",
      "  Distance: 0.38826659321784973\n",
      "\n",
      "Result 3:\n",
      "  Document: Auf dynamische Entwicklungen im Cyberraum reagieren Unsere Grundversorgung mit Wasser, Strom und Telekommunikation und viele andere hochsensible Prozesse laufen über vernetzte IT-Systeme, die fortlaufend attackiert werden. Die Angriffsmethoden werden immer ausgefeilter. Daher brauchen wir widerstandsfähige IT-Infrastrukturen und -Netze. Für uns gilt: Was in der analogen Welt verboten ist, muss auch in der digitalen Welt verboten sein. Cybersicherheit ist nicht statisch. Ein Schutzniveau heute ist kein Garant für eine erfolgreiche Abwehr der Angriffe von morgen. Wir werden daher fortwährend beurteilen, was notwendig ist, um angemessen auf die dynamischen Entwicklungen im Cyberraum zu reagieren. In letzter Konsequenz heißt das auch: Wir müssen bei schweren Cyber-Angriffen in der Lage sein, aktiv auf die Ursache einzuwirken, um sie zu beenden. Wir werden die dafür erforderlichen rechtlichen Regelungen und eigene technischen Fähigkeiten für ange messene aktive Maßnahmen schaffen. Informationssicherheit und Cyber-Abwehr stärken Eine enge und vertrauensvolle Zusammenarbeit zwischen Bund und Ländern ist unabding bare Voraussetzung, um den Herausforderungen auch bei der Cybersicherheit wirkungsvoll begegnen zu können. Um die Zusammenarbeit zwischen Bund und Ländern weiter zu vertiefen, werden wir das Bundesamt für Sicherheit in der Informationstechnik zu einer Zentralstelle für Fra gen der Informations- und Cybersicherheit ausbauen. Es soll neben dem Bundesamt für Verfassungsschutz und dem Bundeskriminalamt eine starke dritte Säule der Cyber-Si cherheitsarchitektur bilden. Das Nationale Cyber-Abwehrzentrum wollen wir so weiterentwickeln, dass es in komple xen Schadenslagen bundesweit eine Abwehr von Gefahren und Angriffen koordinieren kann. Wir müssen bei IT-Beschaffungsvorhaben mehr Geld in den Schutz gegen Cyber-Angriffe investieren. Wir schlagen daher vor, künftig einen bestimmten Anteil der Sachmittel für IT-Vorhaben des Bundes für Informationssicherheit aufzuwenden („Cyber-Quote“), um eine sichere Digitalisierung zu gewährleisten. Cyber-Sicherheitsforschung vorantreiben Die Cyber-Sicherheitsforschung in Deutschland wollen wir stark vorantreiben. Cyber-Si cherheit „Made in Germany“ muss ein Markenzeichen bleiben. Wir wollen, dass Deutschland Weltmarktführer für sichere IT-Lösungen und attraktiver Standort für innovative Unternehmen der Cybersicherheit wird. Dazu gehören führende Verschlüsselungstechnik und Security-by-design-Lösungen, damit Hackerangriffe un möglich werden, sowie diskriminierungsfreie Algorithmen. Nur so können wir das Ziel der Digitalen Souveränität erreichen. Wir wollen eine transparente Zertifizierung von IT-Produkten, der die Menschen ver trauen können. Dazu wollen wir das Bundesamt für Sicherheit in der Informationstechnik so ausstatten, dass es als zentrale Zertifizierungs- und Standardisierungsstelle im inter nationalen Wettbewerb bestehen kann. Wirtschaft besser vor Cyber-Angriffen schützen Wir werden Strukturen schaffen, die es der Wirtschaft ermöglichen, ihre Schutzmaßnahmen gegen Cyber-Attacken zu erhöhen. Dies gilt insbesondere für kleine und mittlere Unterneh men, vom Handwerk bis zu Hidden Champions. Gerade diese Unternehmen sind heute noch unzureichend sensibilisiert und geschützt, obgleich sie wegen ihrer Innovations- und Wirt schaftskraft begehrte Angriffsziele internationaler Konkurrenten, fremder Nachrichten dienste und Krimineller sind. Die wirtschaftlichen Schäden, die dadurch entstehen, sind im mens – bis hin zur Insolvenz und damit einhergehend dem Verlust vieler Arbeitsplätze. Zur besseren Beratung und Unterstützung dieser Unternehmen wollen wir die Rolle des Bundesamtes für Sicherheit in der Informationstechnik weiter ausbauen. Um kleine und mittlere Unternehmen bei der Stärkung ihrer IT-Sicherheit noch wirksa mer zu unterstützen, wollen wir weitere steuerliche Anreize prüfen, wie beispielsweise schnellere Abschreibungsmöglichkeiten von Investitionen in IT-Sicherheit. Anträge für Förderprogramme zur Sensibilisierung und Unterstützung wollen wir weiter vereinfachen und Antragsverfahren beschleunigen.\n",
      "  Party: CDU CSU\n",
      "  Theme: Gefahrenabwehr im Cyberraum\n",
      "  Chunk Index: 0\n",
      "  Distance: 0.3919469118118286\n",
      "\n",
      "Result 4:\n",
      "  Document: Die AfD bekennt sich zu den Werten der Charta der Vereinten Nationen und des Völkerrechts. Insbesondere das Selbstbestimmungsrecht der Völker darf nicht durch die Agenden zwischenstaatlicher Organisationen, von NGOs und durch den Machtzuwachs großer, global agierender Konzerne ausgehöhlt werden. Die internationalen Beziehungen befinden sich im Umbruch hin zu einer multipolaren Weltordnung. Sicherheitspolitisch ist dabei langfristig die Erlangung strategischer Autonomie für Deutschland und seine europäischen Partner anzustreben. In diesem Rahmen muss Deutschland seine Rolle in Europa verantwortungsbewusst wahrnehmen. Die Vergemeinschaftung der europäischen Außen- und Sicherheitspolitik (GASP) und den europäischen Auswärtigen Dienst lehnt die AfD ab. Eine stabile europäische Friedensordnung bedarf einer ausgewogenen Zusammenarbeit sowohl mit den USA als auch mit Russland. Dabei sind die legitimen Sicherheits- interessen aller europäischen Staaten zu berücksichtigen.\n",
      "  Party: AFD\n",
      "  Theme: Selbstbestimmungsrecht der Völker\n",
      "  Chunk Index: 0\n",
      "  Distance: 0.41144829988479614\n",
      "\n",
      "Result 5:\n",
      "  Document: Die Digitalisierung der öffentlichen Verwaltung hat sowohl intern als auch in der Interaktion mit den Bürgern noch viel Potential. Die AfD fordert die bessere finanzielle und beratende Unterstützung von Kommunen bei OZG (OnlineZugangsGesetz) – Projekten, zu denen sie vom Bund verpflichtet wurden. Die AfD fordert, digitale Verwaltungsprozesse zu verschlanken und zu vereinheitlichen. Das E-Government ist weiter auszubauen, dem Bürger aber eine gleichwertige, niederschwellige, persönliche Kontaktaufnahme zu ermöglichen. Grundsätzlich soll jeder Behördengang von Bürgern in Zukunft nach seiner Wahl digital oder persönlich abgewickelt werden können. Bezahlung von Gebühren jeder Art muss mit Bargeld erfolgen können. Die AfD fordert den bevorzugten Einsatz (ggf. zu entwickelnder) quelloffener Software für digitale Verwaltungsprozesse. Dies gilt auch für den Betrieb von Servern und Arbeitsplatzrechnern.\n",
      "  Party: AFD\n",
      "  Theme: Digitalisierung der öffentlichen Verwaltung\n",
      "  Chunk Index: 0\n",
      "  Distance: 0.41176772117614746\n",
      "\n",
      "Result 6:\n",
      "  Document: Technischer Fortschritt wird in Deutschland zunehmend nicht mehr als Chance für unser rohstoffarmes Land gesehen, sondern aufgrund von Ängsten be- oder verhindert. Die AfD stellt sich gegen diese Entwicklung und versucht, in Gesellschaft und Parlamenten eine positive Zukunftserwartung zu vermitteln. Nicht Verzicht, Rückschritt und Sozialismus haben die Umweltbelastungen seit Jahrzehnten reduziert, sondern technischer Fortschritt und eine auf klaren Regeln basierende Marktwirtschaft. Techniken müssen dem Wohl der Bürger, der Wirtschaft und auch unserer Heimat, d. h. der Umwelt, zugute kommen. Aufgabe der Politik ist es, Rahmenbedingungen auf der Grundlage des aktuellen Standes von Wissenschaft und Technik zu formulieren. Sicherheit und Wirtschaftlichkeit jeder Technik sind durch die Anwender sicherzustellen. Darum fordert die AfD, den Herausforderungen der Gegenwart technologieoffen zu begegnen. Gesicherte und günstige Energieversorgung ist eine der Grundvoraussetzungen von Wohlstand, Sicherheit und Gesundheit. Diese sicherzustellen ist Kernaufgabe des Staates. Energiepolitik bedeutet, Rahmenbedingungen so zu setzen, dass die Energieversorgung gesichert, umweltfreundlich und kostengünstig im Rahmen des freien Marktes gewährleistet ist. Teure und knappe Energie lässt Industrien abwandern und schränkt den Lebensstandard breiter Teile der Bevölkerung, gerade auch der unteren Einkommensgruppen, drastisch ein.\n",
      "  Party: AFD\n",
      "  Theme: Technischen Fortschritt begrüßen\n",
      "  Chunk Index: 0\n",
      "  Distance: 0.42672502994537354\n"
     ]
    }
   ],
   "source": [
    "query = \"Was denkt AFD über Cybersicherheit?\"\n",
    "results = query_collection(query)\n",
    "\n",
    "print(f\"Query: {query}\")\n",
    "for i in range(len(results[\"documents\"][0])):\n",
    "    print(f\"\\nResult {i+1}:\")\n",
    "    print(f\"  Document: {results['documents'][0][i]}\")\n",
    "    print(f\"  Party: {results['metadatas'][0][i]['party']}\")\n",
    "    print(f\"  Theme: {results['metadatas'][0][i]['theme']}\")\n",
    "    print(f\"  Chunk Index: {results['metadatas'][0][i]['chunk_index']}\")\n",
    "    print(f\"  Distance: {results['distances'][0][i]}\")"
   ]
  }
 ],
 "metadata": {
  "kernelspec": {
   "display_name": "tst",
   "language": "python",
   "name": "python3"
  },
  "language_info": {
   "codemirror_mode": {
    "name": "ipython",
    "version": 3
   },
   "file_extension": ".py",
   "mimetype": "text/x-python",
   "name": "python",
   "nbconvert_exporter": "python",
   "pygments_lexer": "ipython3",
   "version": "3.11.9"
  }
 },
 "nbformat": 4,
 "nbformat_minor": 2
}

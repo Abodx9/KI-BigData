{
 "cells": [
  {
   "cell_type": "markdown",
   "metadata": {},
   "source": [
    "# Evaluate our ChromaDB with its Embeddings model"
   ]
  },
  {
   "cell_type": "code",
   "execution_count": null,
   "metadata": {},
   "outputs": [],
   "source": [
    "from transformers import AutoTokenizer, AutoModel\n",
    "from sentence_transformers import SentenceTransformer\n",
    "import chromadb\n",
    "\n",
    "\n",
    "db_path=\"./vektor_DB\"\n",
    "client = chromadb.PersistentClient(path=db_path)\n",
    "\n",
    "embedding_model = SentenceTransformer(\"sentence-transformers/gtr-t5-large\")\n",
    "\n",
    "collection = client.get_collection(\"meinungen\")"
   ]
  },
  {
   "cell_type": "code",
   "execution_count": null,
   "metadata": {},
   "outputs": [
    {
     "name": "stdout",
     "output_type": "stream",
     "text": [
      "Query: Privacy\n",
      "\n",
      "Result 1:\n",
      "  Document: Wir Freie Demokraten wollen den Schutz der Menschenrech- te im digitalen Zeitalter stärken. Hierfür wollen wir die Inter- netfreiheit und digitalen Menschenrechte zu neuen außen- politischen Schwerpunkten machen. Denn die Digitalisierung birgt sowohl neue Chancen für den Schutz der Menschen- rechte als auch neue Herausforderungen. Beim Ausbau des Menschenrechtsschutzes im digitalen Zeitalter muss Deutsch- land im Zuge einer effektiven Cybersicherheitsstrategie in Europa und international eine Führungsrolle einnehmen – insbesondere beim Recht auf Privatsphäre, Anonymität im Internet und Verschlüsselung sowie beim Schutz personen- bezogener Daten und vor Massenüberwachung. Zum Schutz der Privatsphäre gehört auch, dass zur Straf- und Zivilrechts- verfolgung von Persönlichkeitsrechtsverletzungen Anonymität aufgehoben werden kann.\n",
      "  Party: FDP\n",
      "  Theme: Menschenrechte im digitalen Zeitalter schützen\n",
      "  Chunk Index: 0\n",
      "  Distance: 0.6077107589997595\n",
      "\n",
      "Result 2:\n",
      "  Document: Wer mit einer digitalen Identität ausgestattet ist, kann sich bequem authentifizieren und sicher kommunizieren. Was in skandinavischen Ländern schon lange Praxis ist – Behördengänge einfach mit dem Smartphone erledigen zu können –, wollen wir auch hier erreichen und dabei auch von Anfang an Möglichkeiten für Staat, Wirtschaft und Gesellschaft ganzheitlich denken. Wir wollen digitale Serviceangebote der Verwaltung als Plattform für Staat, Wirtschaft und Zivilgesellschaft begreifen und durch modulare sowie sichere Komponenten einen Mehrwert für alle schaffen. Bestehende Systeme wollen wir zusätzlich öffnen und ermöglichen, dass öffentliche Stellen auch Identitätsmerkmale bestätigen können. So wollen wir eine Identitätsinfrastruktur schaffen, die es natürlichen und juristischen Personen erlaubt, ihre digitale Identität mit Hilfe von Smartphones, Onlinediensten oder Ausweisdokumenten zu nutzen. Mit Offenheit und Technologieneutralität wollen wir EU-weit interoperable digitale Identitäten zu einer Basisinfrastruktur unseres digitalen Gemeinwesens machen. Für die Kommunikation mit der öffentlichen Hand wollen wir ein offenes System schaffen, das einen Ende-zu-Ende-verschlüsselten Austausch von Nachrichten ermöglicht. Bürger*innen sollen einen Anspruch auf die digitale Zustellung von Behördendokumenten erhalten. Dabei benötigen Menschen, die nur analog unterwegs sind, Unterstützung durch Weiterbildung und Hilfe. Jede Person soll mit einer kostenfreien digitalen Identität ausgestattet sein, um sich digital ausweisen und digital unterschreiben zu können. Ein solches Smartphone-Wallet kann in allen Sektoren verwendet werden. Im Rahmen einer ganzheitlichen E-Government-Strategie wollen wir einen Mobilpass für unterschiedlichste Mobilitätsangebote, Serviceangebote der Verwaltung, E-Health- und E-Justice-Infrastrukturen und auch digitale Beteiligungsformate ermöglichen. Gleichzeitig wollen wir die gesetzlichen Grundlagen dafür schaffen, dass auch die Wirtschaft branchenübergreifend dieses Verfahren nutzen kann, etwa für sichere Loginverfahren, Finanz- und Versicherungsdienstleistungen oder durch digitale Vollmachten erlaubte Zugriffe auf öffentliche Register, etwa zur Verifikation von Führerscheinen. Die EU und Deutschland müssen bei hoheitlichen digitalen Identitäten Vorreiter sein und Vertrauen durch Souveränität schaffen.\n",
      "  Party: Grünen\n",
      "  Theme: Der Personalausweis auf dem Smartphone\n",
      "  Chunk Index: 0\n",
      "  Distance: 0.6695111393928528\n",
      "\n",
      "Result 3:\n",
      "  Document: Wir treten für eine inklusive Gesellschaft gemäß der UN-Behindertenrechtskonvention ein, in der Menschen mit Behinderung ihre Fähigkeiten und Talente selbst einbringen können. Stufen, zu enge Türen oder schwer lesbare Webseiten – in unserem Alltag gibt es viele unterschiedliche Dinge, die für Menschen mit Behinderung, aber auch für ältere Menschen, Eltern mit Kinderwagen oder Verletzte mit Gipsbein eine Barriere darstellen. Es ist mühsam, manchmal unmöglich, Angebote zu nutzen, die für andere selbstverständlich sind. Wir wollen Barrierefreiheit schaffen, damit Menschen mit unterschiedlichen Behinderungen, auch psychischen Erkrankungen, gleichberechtigt am öffentlichen Leben teilhaben und selbstbestimmt, gemeinsam mit nichtbehinderten Menschen leben, lernen und arbeiten können. Das wollen wir mit einem „Barrierefreiheits-Gesetz“ erreichen, das private wie öffentliche Anbieter*innen öffentlich zugänglicher Angebote und Dienstleistungen zu umfassender Barrierefreiheit und den Bund innerhalb von zehn Jahren zur Herstellung der Barrierefreiheit seiner Gebäude verpflichtet. Kleine Unternehmen werden durch eine Überforderungsklausel geschützt, aber zu angemessenen Vorkehrungen verpflichtet. Durch eine Erhöhung der Bundesförderung soll der Anteil barrierefreier Wohnungen deutlich erhöht werden. Um selbstbestimmte Mobilität und selbstbestimmtes Wohnen zu ermöglichen, wollen wir außerdem die Städtebauförderung für inklusive Stadtquartiere stärken und die soziale Wohnraumförderung an Barrierefreiheit binden. Im ÖPNV, den alle Menschen mit Schwerbehinderung kostenfrei nutzen sollen können, in öffentlichen Einrichtungen, Ladengeschäften, Gewerbe- und Bürogebäuden soll Barrierefreiheit zum Standard werden. Die Verbrechen der deutschen Geschichte gegenüber Menschen mit Behinderung wollen wir weiter aufarbeiten und die Opfer angemessen entschädigen.\n",
      "  Party: Grünen\n",
      "  Theme: Für eine inklusive und barrierefreie Gesellschaft\n",
      "  Chunk Index: 0\n",
      "  Distance: 0.6721347570419312\n",
      "\n",
      "Result 4:\n",
      "  Document: DIE LINKE steht für eine lebendige Demokratie. Die digitalen technischen Möglichkeiten dürfen nicht zur Überwachung der Bürger*innen und zur Einschränkung der Demokratie genutzt werden. n Videoüberwachung im öffentlichen Raum muss beendet werden. Automatisierte Gesichtserkennung wollen wir verbieten. Wir brauchen stattdessen mehr Personal im öffentlichen Raum und auf Bahnhöfen, das Unterstützung, Auskunft und Hilfe bieten kann. Eine Kamera verhindert keine Gewalt und leistet keine Hilfe. n Wir lehnen die anlasslose Vorhaltung und zentrale Speicherung von biometrischen Daten wie Fotos von Gesichtern und Fingerabdrücken ab. Entsprechende Speicherungen in Registern und in Ausweisdokumenten wollen wir rückgängig machen. n Quellen Telekommunikationsüberwachung und Onlinedurchsuchung (Staatstrojaner) müssen verboten werden. Wir wollen das Recht auf Privatsphäre, sichere Kommunikation und Verschlüsselung gesetzlich verankern. Spyware aller Art muss verboten werden. n Die Vorratsdatenspeicherung von IPVerbindungen, Mobilfunkverbindungen und -standorten muss verboten werden. Eine Ausweispflicht für E-Mail-, Messengerdienste und Ähnliches lehnen wir ab. n Den Export von Überwachungstechnologie und den Einsatz autonomer Waffensysteme und bewaffneter Drohnen wollen wir verbieten. n Die behördliche Speicherung personenbezogener Daten muss auch für Geflüchtete der Verhältnismäßigkeit und dem Grundrecht auf informationelle Selbstbestimmung entsprechen. Das Ausländerzentralregister ist zum Instrument der Totalerfassung geworden, das Zugriff auf nahezu sämtliche persönliche Daten zahlreicher Behörden erlaubt. Mobiltelefone Schutzsuchender werden für Asylentscheidungen systematisch ausgelesen und analysiert. Das schafft gefährliche Präzedenzfälle und bedroht die Grundrechte aller Menschen. n Digitale Gewalt im Netz muss juristisch anerkannt und verfolgt werden. Dazu muss auch Kompetenz in den Strafverfolgungsbehörden aufgebaut werden. Das betrifft besonders digitale Gewalt gegen Frauen, Kinder/Jugendliche und Angehörige von Minderheiten. n Die Impressumspflicht wollen wir überarbeiten, um die Privatsphäre von Websitebetreiber*innen zu sichern. n Das Fernmeldegeheimnis und der Schutz gespeicherter Daten muss auch für Jugendliche gelten: Eltern dürfen sich zu offensichtlich geschützten Daten keinen Zugang verschaffen. Apps zur Überwachung beispielsweise des Standorts lehnen wir ab. n Nicht kommerzielle Vervielfältigung und Nutzung urheberrechtlich geschützten Materials darf nicht kriminalisiert werden. n Ein modernes Urheberrecht muss den neuen Nutzungsmöglichkeiten im Netz gerecht werden und gleichzeitig den Urheber*innen den Rücken stärken (vgl. Kapitel »Kultur«). Für eine gerechte Vergütung müssen keine Nutzer*innenrechte eingeschränkt werden. Wir werden uns auch auf europäischer Ebene dafür einsetzen, dass Alltagsnutzungen flexibler erlaubt werden. Leistungsschutzrecht und Datenbankschutzrecht sollen für Presseverlage abgeschafft werden. 97 n Der Einsatz sogenannter künstlicher Intelligenz (KI) muss gesetzlich reguliert werden, um gemeinwohlorientierte Anwendung sicherzustellen. n Sämtliche für Entscheidungen eingesetzte Algorithmen müssen von unabhängigen Stellen auf Diskriminierungsfreiheit geprüft werden. Wir wollen ethische Richtlinien für die Schaffung von Algorithmen. n Bei Anwendung von KI auf personenbezogene Daten müssen demokratische Gestaltungsmöglichkeiten, weitgehender Datenschutz und freie Meinungsbildung in digitalen Medien gewährleistet sein. KI muss hierbei sozialer Spaltung, Monopolisierungstendenzen in der Wirtschaft durch wenige Technologiekonzerne und Überwachung entgegenwirken. Auf dieser Grundlage sollen Potenzial und Regulierungsansätze von KI weiter erforscht und genutzt werden. Entscheidungen beispielsweise über Sozialleistungsansprüche, Kreditwürdigkeit oder Prognosen über Straffälligkeit sind deshalb bis auf Weiteres abzulehnen. Wir wollen Whistleblower schützen. Personen und Strukturen, die Missstände und Verbrechen in der Wirtschaft und in demokratischen Institutionen öffentlich machen, sind für eine Demokratie lebensnotwendig. Digitale Zahlungssysteme regulieren Internetkonzerne entwickeln für ihre Hardund Softwareprodukte eigene Bezahlsysteme (zum Beispiel ApplePay, AmazonPay, PayPal) oder denken über die Etablierung eigener Parallelwährungen nach (beispielsweise Facebooks\n",
      "  Party: Die Linke\n",
      "  Theme: Grundrechte schützen\n",
      "  Chunk Index: 0\n",
      "  Distance: 0.6732388734817505\n",
      "\n",
      "Result 5:\n",
      "  Document: Verschlüsselte Kommunikation rettet tagtäglich Menschenleben. In den sozialen Medien werden Menschenrechtsverletzungen, die ansonsten unentdeckt geblieben wären, für alle sichtbar. Und ohne Satellitenbilder ließe sich etwa die Vertreibung ganzer Dorfgemeinschaften in Kriegsgebieten gar nicht erst nachvollziehen. Zugleich sind es oft europäische Überwachungstools, die es autokratischen Regierungen ermöglichen, unliebsame Aktivist*innen zu verfolgen. Biometrische Erkennungssysteme, wie etwa identifizierende Gesichtserkennungssoftware, stellen besonders für Menschenrechtsverteidiger*innen, Medienschaffende und verfolgte Minderheiten in autoritären Staaten eine zusätzliche Bedrohung dar. Wir zielen auf ein Verbot für die Ausfuhr, den Verkauf und die Weitergabe von Überwachungsinstrumenten an repressive Regime. Entsprechende Schutzklauseln wollen wir in der deutschen wie europäischen Exportkontrolle verankern. Wir fördern die Entkriminalisierung verschlüsselter Kommunikation, stellen uns der Schwächung von Verschlüsselungstechnologien und -standards entgegen und stärken die Multi-Stakeholder-Governance des Internets auf internationaler Ebene. Im Rahmen unserer internationalen Zusammenarbeit setzen wir uns für den freien Zugang aller zu digitaler Technologie ein. Den freien Zugang zu Informationen als einem globalen öffentlichen Gut gilt es zu fördern und zu schützen. Durch die Unterstützung von Trainings stärken wir die sichere digitale Vernetzung zivilgesellschaftlicher Organisationen weltweit.\n",
      "  Party: Grünen\n",
      "  Theme: Keine Überwachungstechnologie für Diktaturen und Autokratien\n",
      "  Chunk Index: 0\n",
      "  Distance: 0.6773585677146912\n",
      "\n",
      "Result 6:\n",
      "  Document: Wir Freie Demokraten wollen ein modernes Urheberrecht. Jedoch hinkt das geltende Urheberrecht der gesellschaft- lichen und technologischen Entwicklung hinterher und bremst Innovationen aus. Wir Freie Demokraten wollen das Urheber- recht nach dem Vorbild des amerikanischen „Fair Use“-Prinzips maßvoll weiterentwickeln und hierzu die bisherigen Schran- ken des Urheberrechts durch eine Bagatellklausel für private Nutzungen ersetzen, die keine wirtschaftlichen Folgen haben und – wie viele inzwischen alltägliche Nutzungen wie Memes und Remixes – keine kommerziellen Interessen verfolgen. Das Leistungsschutzrecht für Presseverlegerinnen und Pressever- leger wollen wir wieder abschaffen. Das Verhältnis zwischen Kunstfreiheit und dem Schutz geistigen Eigentums muss im digitalen Zeitalter neu gedacht werden und gleichzeitig die Ur- heberin sowie den Urheber eines Werkes in ihren oder seinen wirtschaftlichen und ideellen Rechten schützen. Dies ist Grund- voraussetzung für eine lebendige Kultur- und Kreativwirtschaft. Den Einsatz von Uploadfiltern lehnen wir als immense Gefahr für Meinungs- und Kunstfreiheit im Netz jedoch weiterhin ab. Zudem setzen wir uns dafür ein, dass staatliche Informationen nicht länger mit Verweis auf das Urheberrecht, quasi als Ge- heimschutz durch die Hintertür, der Öffentlichkeit vorenthalten werden können.\n",
      "  Party: FDP\n",
      "  Theme: Urheberrecht: Fairen Interessenausgleich und Grundrechte im Internet sichern\n",
      "  Chunk Index: 0\n",
      "  Distance: 0.6898655295372009\n"
     ]
    }
   ],
   "source": [
    "def query_collection(query_text, n_results=6):\n",
    "    \"\"\"Queries the ChromaDB collection and returns relevant results.\"\"\"\n",
    "\n",
    "    query_embedding = embedding_model.encode(query_text)\n",
    "    results = collection.query(\n",
    "        query_embeddings=[query_embedding],\n",
    "        n_results=n_results,\n",
    "        include=[\"documents\", \"metadatas\", \"distances\"]\n",
    "    )\n",
    "    return results\n",
    "\n",
    "query = \"Privacy\"\n",
    "results = query_collection(query)\n",
    "\n",
    "print(f\"Query: {query}\")\n",
    "for i in range(len(results[\"documents\"][0])):\n",
    "    print(f\"\\nResult {i+1}:\")\n",
    "    print(f\"  Document: {results['documents'][0][i]}\")\n",
    "    print(f\"  Party: {results['metadatas'][0][i]['party']}\")\n",
    "    print(f\"  Theme: {results['metadatas'][0][i]['theme']}\")\n",
    "    print(f\"  Chunk Index: {results['metadatas'][0][i]['chunk_index']}\")\n",
    "    print(f\"  Distance: {results['distances'][0][i]}\")"
   ]
  },
  {
   "cell_type": "markdown",
   "metadata": {},
   "source": [
    "## Read the data and handle long text"
   ]
  },
  {
   "cell_type": "code",
   "execution_count": null,
   "metadata": {},
   "outputs": [],
   "source": [
    "import pandas as pd\n",
    "csv_file = \"Daten.csv\"\n",
    "data = pd.read_csv(csv_file)\n",
    "\n",
    "#Funktion\n",
    "def chunk_text(text, max_tokens=512):\n",
    "    tokenizer = AutoTokenizer.from_pretrained(\"sentence-transformers/gtr-t5-large\")\n",
    "    words = text.split()\n",
    "    chunks = []\n",
    "    while len(words) > 0:\n",
    "        chunk = \" \".join(words[:max_tokens])\n",
    "        chunks.append(chunk)\n",
    "        words = words[max_tokens:]\n",
    "    return chunks"
   ]
  },
  {
   "cell_type": "markdown",
   "metadata": {},
   "source": [
    "## Eval the vektor_DB with cross validation and KNN classifier"
   ]
  },
  {
   "cell_type": "code",
   "execution_count": null,
   "metadata": {},
   "outputs": [
    {
     "name": "stdout",
     "output_type": "stream",
     "text": [
      "Cross-Validation Accuracy: Mean = 0.3821666053245001, Std = 0.02178320723925732\n",
      "Accuracy of the KNN classifier: 0.3585434173669468\n"
     ]
    }
   ],
   "source": [
    "import numpy as np\n",
    "from sklearn.model_selection import train_test_split, cross_val_score\n",
    "from sklearn.metrics import accuracy_score\n",
    "from sklearn.neighbors import KNeighborsClassifier\n",
    "from sklearn.model_selection import GridSearchCV\n",
    "\n",
    "#Extract features (embeddings) und labels (partei)\n",
    "embeddings = []\n",
    "labels = []\n",
    "\n",
    "for index, row in data.iterrows():\n",
    "    party = row[\"Partei\"]\n",
    "    long_text = row[\"Meinung\"]\n",
    "\n",
    "    if isinstance(long_text, str):\n",
    "        chunks = chunk_text(long_text)\n",
    "        for chunk in chunks:\n",
    "            embedding = embedding_model.encode(chunk)\n",
    "            embeddings.append(embedding)\n",
    "            labels.append(party)\n",
    "\n",
    "\n",
    "embeddings = np.array(embeddings)\n",
    "labels = np.array(labels)\n",
    "\n",
    "X_train, X_test, y_train, y_test = train_test_split(embeddings, labels, test_size=0.2, random_state=42)\n",
    "\n",
    "knn_classifier = KNeighborsClassifier(n_neighbors=5)\n",
    "\n",
    "#Cross-validation um modell zu evaluieren\n",
    "cv_scores = cross_val_score(knn_classifier, X_train, y_train, cv=5, scoring='accuracy')\n",
    "print(f\"Cross-Validation Accuracy: Mean = {cv_scores.mean()}, Std = {cv_scores.std()}\")\n",
    "\n",
    "knn_classifier.fit(X_train, y_train)\n",
    "\n",
    "y_pred = knn_classifier.predict(X_test)\n",
    "\n",
    "#evualte + accuracy\n",
    "accuracy = accuracy_score(y_test, y_pred)\n",
    "print(f\"Accuracy of the KNN classifier: {accuracy}\")\n"
   ]
  }
 ],
 "metadata": {
  "kernelspec": {
   "display_name": "tst",
   "language": "python",
   "name": "python3"
  },
  "language_info": {
   "codemirror_mode": {
    "name": "ipython",
    "version": 3
   },
   "file_extension": ".py",
   "mimetype": "text/x-python",
   "name": "python",
   "nbconvert_exporter": "python",
   "pygments_lexer": "ipython3",
   "version": "3.11.9"
  }
 },
 "nbformat": 4,
 "nbformat_minor": 2
}
